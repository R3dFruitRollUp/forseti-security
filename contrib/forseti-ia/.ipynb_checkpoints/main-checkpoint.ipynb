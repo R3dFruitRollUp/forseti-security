{
 "cells": [
  {
   "cell_type": "code",
   "execution_count": 3,
   "metadata": {},
   "outputs": [],
   "source": [
    "import json\n",
    "import pandas as pd\n",
    "\n",
    "import machine_learning.model as model\n",
    "from resources.firewall_rule import FirewallRule"
   ]
  },
  {
   "cell_type": "code",
   "execution_count": 6,
   "metadata": {},
   "outputs": [
    {
     "name": "stdout",
     "output_type": "stream",
     "text": [
      "'NoneType' object is not iterable\n",
      "{u'policy_update_counter': 0, u'display_name': u'', u'name': u'1752190369480707101', u'data': u'{\"allowed\": [{\"IPProtocol\": \"tcp\"}], \"creationTimestamp\": \"2017-07-19T12:28:50.295-07:00\", \"description\": \"\", \"direction\": \"INGRESS\", \"disabled\": false, \"id\": \"1752190369480707101\", \"kind\": \"compute#firewall\", \"name\": \"fw-tag-match\", \"network\": \"https://www.googleapis.com/compute/beta/projects/iap-1-174217/global/networks/default\", \"priority\": 1000, \"selfLink\": \"https://www.googleapis.com/compute/beta/projects/iap-1-174217/global/firewalls/fw-tag-match\", \"sourceTags\": [\"tag-match\"], \"targetTags\": [\"othertag\", \"sometag\"]}', u'type_name': u'firewall/1752190369480707101', u'parent_type_name': u'project/iap-1-174217', u'full_name': u'organization/660570133860/project/iap-1-174217/firewall/1752190369480707101/', u'type': u'firewall', u'email': u''}\n",
      "'NoneType' object is not iterable\n",
      "{u'policy_update_counter': 0, u'display_name': u'', u'name': u'8719472173724601402', u'data': u'{\"allowed\": [{\"IPProtocol\": \"tcp\"}], \"creationTimestamp\": \"2017-07-19T12:28:21.109-07:00\", \"description\": \"\", \"direction\": \"INGRESS\", \"disabled\": false, \"id\": \"8719472173724601402\", \"kind\": \"compute#firewall\", \"name\": \"fw-tag-mismatch\", \"network\": \"https://www.googleapis.com/compute/beta/projects/iap-1-174217/global/networks/default\", \"priority\": 1000, \"selfLink\": \"https://www.googleapis.com/compute/beta/projects/iap-1-174217/global/firewalls/fw-tag-mismatch\", \"sourceTags\": [\"tag-mismatch\"], \"targetTags\": [\"badtag\"]}', u'type_name': u'firewall/8719472173724601402', u'parent_type_name': u'project/iap-1-174217', u'full_name': u'organization/660570133860/project/iap-1-174217/firewall/8719472173724601402/', u'type': u'firewall', u'email': u''}\n"
     ]
    },
    {
     "ename": "NameError",
     "evalue": "global name 'pd' is not defined",
     "traceback": [
      "\u001b[0;31m---------------------------------------------------------------------------\u001b[0m",
      "\u001b[0;31mNameError\u001b[0m                                 Traceback (most recent call last)",
      "\u001b[0;32m<ipython-input-6-b1be51ff9183>\u001b[0m in \u001b[0;36m<module>\u001b[0;34m()\u001b[0m\n\u001b[1;32m     57\u001b[0m          \u001b[0;34m'direction'\u001b[0m\u001b[0;34m,\u001b[0m\u001b[0;34m\u001b[0m\u001b[0m\n\u001b[1;32m     58\u001b[0m          \u001b[0;34m'disabled'\u001b[0m\u001b[0;34m,\u001b[0m\u001b[0;34m\u001b[0m\u001b[0m\n\u001b[0;32m---> 59\u001b[0;31m          'network'])\n\u001b[0m\u001b[1;32m     60\u001b[0m     \u001b[0;32mprint\u001b[0m\u001b[0;34m(\u001b[0m\u001b[0mdf_filtered\u001b[0m\u001b[0;34m.\u001b[0m\u001b[0miloc\u001b[0m\u001b[0;34m[\u001b[0m\u001b[0;36m0\u001b[0m\u001b[0;34m]\u001b[0m\u001b[0;34m)\u001b[0m\u001b[0;34m\u001b[0m\u001b[0m\n",
      "\u001b[0;32m<ipython-input-6-b1be51ff9183>\u001b[0m in \u001b[0;36mpre_process_firewall_data\u001b[0;34m(resource_data_json, selected_features)\u001b[0m\n\u001b[1;32m     14\u001b[0m     \"\"\"\n\u001b[1;32m     15\u001b[0m \u001b[0;34m\u001b[0m\u001b[0m\n\u001b[0;32m---> 16\u001b[0;31m     \u001b[0mdf\u001b[0m \u001b[0;34m=\u001b[0m \u001b[0mpd\u001b[0m\u001b[0;34m.\u001b[0m\u001b[0mDataFrame\u001b[0m\u001b[0;34m(\u001b[0m\u001b[0mresource_data_json\u001b[0m\u001b[0;34m)\u001b[0m\u001b[0;34m\u001b[0m\u001b[0m\n\u001b[0m\u001b[1;32m     17\u001b[0m \u001b[0;34m\u001b[0m\u001b[0m\n\u001b[1;32m     18\u001b[0m     \u001b[0mexisting_columns\u001b[0m \u001b[0;34m=\u001b[0m \u001b[0mdf\u001b[0m\u001b[0;34m.\u001b[0m\u001b[0mcolumns\u001b[0m\u001b[0;34m\u001b[0m\u001b[0m\n",
      "\u001b[0;31mNameError\u001b[0m: global name 'pd' is not defined"
     ],
     "output_type": "error"
    }
   ],
   "source": [
    "# Data processing / Features engineering\n",
    "\n",
    "def pre_process_firewall_data(resource_data_json,\n",
    "                              selected_features):\n",
    "    \"\"\"Pre process resource data.\n",
    "\n",
    "    Args:\n",
    "        resource_data_json (list): A list of resource data in json format.\n",
    "        selected_features (list): A list of selected features, if the\n",
    "            list is empty, we will include all the features.\n",
    "\n",
    "    Returns:\n",
    "        DataFrame: DataFrame table with all the resource_data.\n",
    "    \"\"\"\n",
    "\n",
    "    df = pd.DataFrame(resource_data_json)\n",
    "\n",
    "    existing_columns = df.columns\n",
    "\n",
    "    new_columns = list(set(existing_columns).intersection(selected_features))\n",
    "    df['creation_timestamp'] = df['creation_timestamp'].astype('category').cat.codes\n",
    "    df['direction'] = df['direction'].astype('category').cat.codes\n",
    "    df['action'] = df['action'].astype('category').cat.codes\n",
    "    df['disabled'] = df['disabled'].astype('category').cat.codes\n",
    "    df['ip_protocol'] = df['ip_protocol'].astype('category').cat.codes\n",
    "    df['ports'] = df['ports'].astype('category').cat.codes\n",
    "    df['source_ip_addr'] = df['source_ip_addr'].astype('category').cat.codes\n",
    "    df['dest_ip_addr'] = df['dest_ip_addr'].astype('category').cat.codes\n",
    "    df['service_account'] = df['service_account'].astype('category').cat.codes\n",
    "    df['tag'] = df['tag'].astype('category').cat.codes\n",
    "    df['full_name'] = df['full_name'].astype('category').cat.codes\n",
    "    df['ip_protocol'] = df['ip_protocol'].astype('category').cat.codes\n",
    "    df['network'] = df['network'].astype('category').cat.codes\n",
    "\n",
    "    df = df[new_columns]\n",
    "\n",
    "    return df\n",
    "\n",
    "with open('sample_datasets/dataset_firewall.json') as firewall_dataset:\n",
    "    firewall_rules = json.load(firewall_dataset)\n",
    "\n",
    "    flattened_firewall_rules = FirewallRule.flatten_firewall_rules(firewall_rules)\n",
    "\n",
    "    flattened_firewall_rules_dict = [i.to_dict() for i in flattened_firewall_rules]\n",
    "\n",
    "    df_filtered = pre_process_firewall_data(\n",
    "        flattened_firewall_rules_dict,\n",
    "        ['creation_timestamp',\n",
    "         'source_ip_addr',\n",
    "         'dest_ip_addr',\n",
    "         'service_account',\n",
    "         'tag',\n",
    "         'full_name',\n",
    "         'action',\n",
    "         'ip_protocol',\n",
    "         'ports',\n",
    "         'direction',\n",
    "         'disabled',\n",
    "         'network'])\n",
    "    print(df_filtered.iloc[0])\n"
   ]
  },
  {
   "cell_type": "code",
   "execution_count": null,
   "metadata": {},
   "outputs": [],
   "source": [
    "# PCA Visualization\n",
    "\n",
    "pac_2 = model.dimensionality_reduce(df_filtered, 2)\n",
    "\n",
    "model.visualize_2d(pac_2)"
   ]
  },
  {
   "cell_type": "code",
   "execution_count": null,
   "metadata": {},
   "outputs": [],
   "source": [
    "# K means\n",
    "\n",
    "m = model.k_means(reduced_data, 3, max_iter=100, seed=0)\n",
    "\n",
    "print (m)"
   ]
  }
 ],
 "metadata": {
  "kernelspec": {
   "display_name": "Python 2",
   "language": "python",
   "name": "python2"
  },
  "language_info": {
   "codemirror_mode": {
    "name": "ipython",
    "version": 2
   },
   "file_extension": ".py",
   "mimetype": "text/x-python",
   "name": "python",
   "nbconvert_exporter": "python",
   "pygments_lexer": "ipython2",
   "version": "2.7.13"
  }
 },
 "nbformat": 4,
 "nbformat_minor": 2
}
